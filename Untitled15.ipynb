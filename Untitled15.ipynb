{
 "cells": [
  {
   "cell_type": "code",
   "execution_count": null,
   "id": "a27dd682",
   "metadata": {},
   "outputs": [],
   "source": [
    "pip install pygame\n",
    "import pygame\n",
    "import os\n",
    "\n",
    "# Initialize Pygame\n",
    "pygame.init()\n",
    "\n",
    "# Create a function to play music\n",
    "def play_music(file_path):\n",
    "    pygame.mixer.init()\n",
    "    pygame.mixer.music.load(file_path)\n",
    "    pygame.mixer.music.play()\n",
    "\n",
    "# Main program loop\n",
    "while True:\n",
    "    print(\"Music Player Menu:\")\n",
    "    print(\"1. Play\")\n",
    "    print(\"2. Pause\")\n",
    "    print(\"3. Resume\")\n",
    "    print(\"4. Stop\")\n",
    "    print(\"5. Exit\")\n",
    "\n",
    "    choice = input(\"Enter your choice: \")\n",
    "\n",
    "    if choice == \"1\":\n",
    "        file_path = input(\"Enter the path to the music file: \")\n",
    "        if os.path.exists(file_path):\n",
    "            play_music(file_path)\n",
    "        else:\n",
    "            print(\"File not found.\")\n",
    "\n",
    "    elif choice == \"2\":\n",
    "        pygame.mixer.music.pause()\n",
    "\n",
    "    elif choice == \"3\":\n",
    "        pygame.mixer.music.unpause()\n",
    "\n",
    "    elif choice == \"4\":\n",
    "        pygame.mixer.music.stop()\n",
    "\n",
    "    elif choice == \"5\":\n",
    "        pygame.quit()\n",
    "        break\n",
    "\n",
    "    else:\n",
    "        print(\"Invalid choice. Please select a valid option.\")\n"
   ]
  }
 ],
 "metadata": {
  "kernelspec": {
   "display_name": "Python 3 (ipykernel)",
   "language": "python",
   "name": "python3"
  },
  "language_info": {
   "codemirror_mode": {
    "name": "ipython",
    "version": 3
   },
   "file_extension": ".py",
   "mimetype": "text/x-python",
   "name": "python",
   "nbconvert_exporter": "python",
   "pygments_lexer": "ipython3",
   "version": "3.11.4"
  }
 },
 "nbformat": 4,
 "nbformat_minor": 5
}
